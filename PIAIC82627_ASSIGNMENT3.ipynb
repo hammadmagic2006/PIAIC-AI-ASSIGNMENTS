{
  "nbformat": 4,
  "nbformat_minor": 0,
  "metadata": {
    "colab": {
      "name": "PIAIC82627_ASSIGNMENT3.ipynb",
      "provenance": [],
      "collapsed_sections": []
    },
    "kernelspec": {
      "name": "python3",
      "display_name": "Python 3"
    }
  },
  "cells": [
    {
      "cell_type": "markdown",
      "metadata": {
        "id": "KficabLFphF1"
      },
      "source": [
        "### **Numpy_Assignment_2::**"
      ]
    },
    {
      "cell_type": "markdown",
      "metadata": {
        "id": "Zt-vhfvfswZS"
      },
      "source": [
        "Question:1 \r\n",
        "\r\n",
        "Convert a 1D array to a 2D array with 2 rows?\r\n",
        "\r\n",
        "Desired output::\r\n",
        "array([[0, 1, 2, 3, 4], [5, 6, 7, 8, 9]])\r\n",
        "\r\n"
      ]
    },
    {
      "cell_type": "code",
      "metadata": {
        "colab": {
          "base_uri": "https://localhost:8080/"
        },
        "id": "OItQQufxpYD2",
        "outputId": "e2e90b2f-5b97-461e-bea5-58b95c743e37"
      },
      "source": [
        "import numpy as np\r\n",
        "a = np.arange(0,10).reshape(2,5)\r\n",
        "print (a)"
      ],
      "execution_count": 6,
      "outputs": [
        {
          "output_type": "stream",
          "text": [
            "[[0 1 2 3 4]\n",
            " [5 6 7 8 9]]\n"
          ],
          "name": "stdout"
        }
      ]
    },
    {
      "cell_type": "markdown",
      "metadata": {
        "id": "G__t335wqqx9"
      },
      "source": [
        "Question:2\r\n",
        "\r\n",
        "How to stack two arrays vertically?\r\n",
        "\r\n",
        "Desired Output::\r\n",
        "array([[0, 1, 2, 3, 4], [5, 6, 7, 8, 9], [1, 1, 1, 1, 1], [1, 1, 1, 1, 1]])"
      ]
    },
    {
      "cell_type": "code",
      "metadata": {
        "colab": {
          "base_uri": "https://localhost:8080/"
        },
        "id": "aCUKfkisrV-c",
        "outputId": "d474eaf6-fe48-4fe5-c701-aaf02a34558a"
      },
      "source": [
        "import numpy as np\r\n",
        "a = np.arange(0,10).reshape(2,5)\r\n",
        "b = np.ones(10).reshape(2,5)\r\n",
        "c = np.vstack((a,b))\r\n",
        "print (c)"
      ],
      "execution_count": 18,
      "outputs": [
        {
          "output_type": "stream",
          "text": [
            "[[0. 1. 2. 3. 4.]\n",
            " [5. 6. 7. 8. 9.]\n",
            " [1. 1. 1. 1. 1.]\n",
            " [1. 1. 1. 1. 1.]]\n"
          ],
          "name": "stdout"
        }
      ]
    },
    {
      "cell_type": "markdown",
      "metadata": {
        "id": "cBZL2Trqrhcs"
      },
      "source": [
        "Question:3\r\n",
        "\r\n",
        "How to stack two arrays horizontally?\r\n",
        "\r\n",
        "Desired Output::\r\n",
        "array([[0, 1, 2, 3, 4, 1, 1, 1, 1, 1], [5, 6, 7, 8, 9, 1, 1, 1, 1, 1]])"
      ]
    },
    {
      "cell_type": "code",
      "metadata": {
        "colab": {
          "base_uri": "https://localhost:8080/"
        },
        "id": "U9qyxoMorkSS",
        "outputId": "206e0656-61c2-42b4-8333-0d19af560c60"
      },
      "source": [
        "import numpy as np\r\n",
        "a = np.arange(0,10).reshape(2,5)\r\n",
        "b = np.ones(10).reshape(2,5)\r\n",
        "c = np.hstack((a,b))\r\n",
        "print (c)"
      ],
      "execution_count": 19,
      "outputs": [
        {
          "output_type": "stream",
          "text": [
            "[[0. 1. 2. 3. 4. 1. 1. 1. 1. 1.]\n",
            " [5. 6. 7. 8. 9. 1. 1. 1. 1. 1.]]\n"
          ],
          "name": "stdout"
        }
      ]
    },
    {
      "cell_type": "markdown",
      "metadata": {
        "id": "4v1xf0-Rrk-V"
      },
      "source": [
        "Question:4\r\n",
        "\r\n",
        "How to convert an array of arrays into a flat 1d array?\r\n",
        "\r\n",
        "Desired Output::\r\n",
        "array([0, 1, 2, 3, 4, 5, 6, 7, 8, 9])"
      ]
    },
    {
      "cell_type": "code",
      "metadata": {
        "colab": {
          "base_uri": "https://localhost:8080/"
        },
        "id": "-mub3tl-rq8d",
        "outputId": "12845612-9e03-4f16-f662-ab39e4b14851"
      },
      "source": [
        "import numpy as np\r\n",
        "a = np.array([[0, 1], [2, 3], [4, 5], [6, 7], [8, 9]])\r\n",
        "print (a)\r\n",
        "b = a.flatten()\r\n",
        "print (b)"
      ],
      "execution_count": 24,
      "outputs": [
        {
          "output_type": "stream",
          "text": [
            "[[0 1]\n",
            " [2 3]\n",
            " [4 5]\n",
            " [6 7]\n",
            " [8 9]]\n",
            "[0 1 2 3 4 5 6 7 8 9]\n"
          ],
          "name": "stdout"
        }
      ]
    },
    {
      "cell_type": "markdown",
      "metadata": {
        "id": "ppJPOEVXrrO7"
      },
      "source": [
        "Question:5\r\n",
        "\r\n",
        "How to Convert higher dimension into one dimension?\r\n",
        "\r\n",
        "Desired Output::\r\n",
        "array([ 0, 1, 2, 3, 4, 5, 6, 7, 8, 9, 10, 11, 12, 13, 14])"
      ]
    },
    {
      "cell_type": "code",
      "metadata": {
        "colab": {
          "base_uri": "https://localhost:8080/"
        },
        "id": "N32UWj4DrrxH",
        "outputId": "df89bddf-43f9-4aea-87c5-ad9b6e1bd6a8"
      },
      "source": [
        "import numpy as np\r\n",
        "a = np.arange(0,15).reshape(3,5)\r\n",
        "print (a)\r\n",
        "b = a.flatten()\r\n",
        "print (b)"
      ],
      "execution_count": 30,
      "outputs": [
        {
          "output_type": "stream",
          "text": [
            "[[ 0  1  2  3  4]\n",
            " [ 5  6  7  8  9]\n",
            " [10 11 12 13 14]]\n",
            "[ 0  1  2  3  4  5  6  7  8  9 10 11 12 13 14]\n"
          ],
          "name": "stdout"
        }
      ]
    },
    {
      "cell_type": "markdown",
      "metadata": {
        "id": "kPmprC5CrsEk"
      },
      "source": [
        "Question:6\r\n",
        "\r\n",
        "Convert one dimension to higher dimension?\r\n",
        "\r\n",
        "Desired Output::\r\n",
        "array([[ 0, 1, 2], [ 3, 4, 5], [ 6, 7, 8], [ 9, 10, 11], [12, 13, 14]])"
      ]
    },
    {
      "cell_type": "code",
      "metadata": {
        "colab": {
          "base_uri": "https://localhost:8080/"
        },
        "id": "WeQ98NSursTf",
        "outputId": "ab87566e-0ef2-4699-d498-079d63f822b0"
      },
      "source": [
        "import numpy as np\r\n",
        "a = np.arange(0,15)\r\n",
        "print (a)\r\n",
        "b = np.reshape(a,(5,3))\r\n",
        "print (b)"
      ],
      "execution_count": 34,
      "outputs": [
        {
          "output_type": "stream",
          "text": [
            "[ 0  1  2  3  4  5  6  7  8  9 10 11 12 13 14]\n",
            "[[ 0  1  2]\n",
            " [ 3  4  5]\n",
            " [ 6  7  8]\n",
            " [ 9 10 11]\n",
            " [12 13 14]]\n"
          ],
          "name": "stdout"
        }
      ]
    },
    {
      "cell_type": "markdown",
      "metadata": {
        "id": "Da082uWzrsgf"
      },
      "source": [
        "Question:7\r\n",
        "\r\n",
        "Create 5x5 an array and find the square of an array?"
      ]
    },
    {
      "cell_type": "code",
      "metadata": {
        "colab": {
          "base_uri": "https://localhost:8080/"
        },
        "id": "Fkf0_nkGrstb",
        "outputId": "c66c645d-4a3e-4b76-d913-00d16a458b56"
      },
      "source": [
        "import numpy as np\r\n",
        "a = np.arange(0,25).reshape(5,5)\r\n",
        "print (a)\r\n",
        "np.square(a)"
      ],
      "execution_count": 36,
      "outputs": [
        {
          "output_type": "stream",
          "text": [
            "[[ 0  1  2  3  4]\n",
            " [ 5  6  7  8  9]\n",
            " [10 11 12 13 14]\n",
            " [15 16 17 18 19]\n",
            " [20 21 22 23 24]]\n"
          ],
          "name": "stdout"
        },
        {
          "output_type": "execute_result",
          "data": {
            "text/plain": [
              "array([[  0,   1,   4,   9,  16],\n",
              "       [ 25,  36,  49,  64,  81],\n",
              "       [100, 121, 144, 169, 196],\n",
              "       [225, 256, 289, 324, 361],\n",
              "       [400, 441, 484, 529, 576]])"
            ]
          },
          "metadata": {
            "tags": []
          },
          "execution_count": 36
        }
      ]
    },
    {
      "cell_type": "markdown",
      "metadata": {
        "id": "XGCmYts6rs5i"
      },
      "source": [
        "Question:8\r\n",
        "\r\n",
        "Create 5x6 an array and find the mean?"
      ]
    },
    {
      "cell_type": "code",
      "metadata": {
        "colab": {
          "base_uri": "https://localhost:8080/"
        },
        "id": "9P1dPJpHrtGT",
        "outputId": "2a5c0476-2932-4f63-dad3-9f50953474f5"
      },
      "source": [
        "import numpy as np\r\n",
        "a = np.arange(0,30).reshape(5,6)\r\n",
        "print (a)\r\n",
        "np.mean(a, axis=1)"
      ],
      "execution_count": 37,
      "outputs": [
        {
          "output_type": "stream",
          "text": [
            "[[ 0  1  2  3  4  5]\n",
            " [ 6  7  8  9 10 11]\n",
            " [12 13 14 15 16 17]\n",
            " [18 19 20 21 22 23]\n",
            " [24 25 26 27 28 29]]\n"
          ],
          "name": "stdout"
        },
        {
          "output_type": "execute_result",
          "data": {
            "text/plain": [
              "array([ 2.5,  8.5, 14.5, 20.5, 26.5])"
            ]
          },
          "metadata": {
            "tags": []
          },
          "execution_count": 37
        }
      ]
    },
    {
      "cell_type": "markdown",
      "metadata": {
        "id": "bQgMnJT_rtSm"
      },
      "source": [
        "Question:9\r\n",
        "\r\n",
        "Find the standard deviation of the previous array in Q8?"
      ]
    },
    {
      "cell_type": "code",
      "metadata": {
        "colab": {
          "base_uri": "https://localhost:8080/"
        },
        "id": "mT9A1AnArte_",
        "outputId": "628cfaa0-003f-4a02-e8f8-23f743219629"
      },
      "source": [
        "import numpy as np\r\n",
        "a = np.arange(0,30).reshape(5,6)\r\n",
        "print (a)\r\n",
        "np.std(a, axis=1)"
      ],
      "execution_count": 38,
      "outputs": [
        {
          "output_type": "stream",
          "text": [
            "[[ 0  1  2  3  4  5]\n",
            " [ 6  7  8  9 10 11]\n",
            " [12 13 14 15 16 17]\n",
            " [18 19 20 21 22 23]\n",
            " [24 25 26 27 28 29]]\n"
          ],
          "name": "stdout"
        },
        {
          "output_type": "execute_result",
          "data": {
            "text/plain": [
              "array([1.70782513, 1.70782513, 1.70782513, 1.70782513, 1.70782513])"
            ]
          },
          "metadata": {
            "tags": []
          },
          "execution_count": 38
        }
      ]
    },
    {
      "cell_type": "markdown",
      "metadata": {
        "id": "v92DDpABrtsk"
      },
      "source": [
        "Question:10\r\n",
        "\r\n",
        "Find the median of the previous array in Q8?"
      ]
    },
    {
      "cell_type": "code",
      "metadata": {
        "colab": {
          "base_uri": "https://localhost:8080/"
        },
        "id": "wt97jvZsrt5d",
        "outputId": "4f6cd7b7-d954-426f-da1c-7cf0ff5de608"
      },
      "source": [
        "import numpy as np\r\n",
        "a = np.arange(0,30).reshape(5,6)\r\n",
        "print (a)\r\n",
        "np.median(a, axis=1)"
      ],
      "execution_count": 39,
      "outputs": [
        {
          "output_type": "stream",
          "text": [
            "[[ 0  1  2  3  4  5]\n",
            " [ 6  7  8  9 10 11]\n",
            " [12 13 14 15 16 17]\n",
            " [18 19 20 21 22 23]\n",
            " [24 25 26 27 28 29]]\n"
          ],
          "name": "stdout"
        },
        {
          "output_type": "execute_result",
          "data": {
            "text/plain": [
              "array([ 2.5,  8.5, 14.5, 20.5, 26.5])"
            ]
          },
          "metadata": {
            "tags": []
          },
          "execution_count": 39
        }
      ]
    },
    {
      "cell_type": "markdown",
      "metadata": {
        "id": "PruGpbSOruFM"
      },
      "source": [
        "Question:11\r\n",
        "\r\n",
        "Find the transpose of the previous array in Q8?"
      ]
    },
    {
      "cell_type": "code",
      "metadata": {
        "colab": {
          "base_uri": "https://localhost:8080/"
        },
        "id": "KmMqlA3pruSt",
        "outputId": "154c5304-42c7-4c97-9826-abcc97bb8fdd"
      },
      "source": [
        "import numpy as np\r\n",
        "a = np.arange(0,30).reshape(5,6)\r\n",
        "print (a)\r\n",
        "np.transpose(a)"
      ],
      "execution_count": 41,
      "outputs": [
        {
          "output_type": "stream",
          "text": [
            "[[ 0  1  2  3  4  5]\n",
            " [ 6  7  8  9 10 11]\n",
            " [12 13 14 15 16 17]\n",
            " [18 19 20 21 22 23]\n",
            " [24 25 26 27 28 29]]\n"
          ],
          "name": "stdout"
        },
        {
          "output_type": "execute_result",
          "data": {
            "text/plain": [
              "array([[ 0,  6, 12, 18, 24],\n",
              "       [ 1,  7, 13, 19, 25],\n",
              "       [ 2,  8, 14, 20, 26],\n",
              "       [ 3,  9, 15, 21, 27],\n",
              "       [ 4, 10, 16, 22, 28],\n",
              "       [ 5, 11, 17, 23, 29]])"
            ]
          },
          "metadata": {
            "tags": []
          },
          "execution_count": 41
        }
      ]
    },
    {
      "cell_type": "markdown",
      "metadata": {
        "id": "b0EDmkPoruew"
      },
      "source": [
        "Question:12\r\n",
        "\r\n",
        "Create a 4x4 an array and find the sum of diagonal elements?"
      ]
    },
    {
      "cell_type": "code",
      "metadata": {
        "colab": {
          "base_uri": "https://localhost:8080/"
        },
        "id": "2DnH3FH3rurn",
        "outputId": "1ad6b3c4-118e-4ac1-bd7f-5ff8345f939c"
      },
      "source": [
        "import numpy as np\r\n",
        "a = np.arange(0,16).reshape(4,4)\r\n",
        "print (a)\r\n",
        "np.trace(a)"
      ],
      "execution_count": 43,
      "outputs": [
        {
          "output_type": "stream",
          "text": [
            "[[ 0  1  2  3]\n",
            " [ 4  5  6  7]\n",
            " [ 8  9 10 11]\n",
            " [12 13 14 15]]\n"
          ],
          "name": "stdout"
        },
        {
          "output_type": "execute_result",
          "data": {
            "text/plain": [
              "30"
            ]
          },
          "metadata": {
            "tags": []
          },
          "execution_count": 43
        }
      ]
    },
    {
      "cell_type": "markdown",
      "metadata": {
        "id": "1H0P3_x-sdcA"
      },
      "source": [
        "Question:13\r\n",
        "\r\n",
        "Find the determinant of the previous array in Q12?"
      ]
    },
    {
      "cell_type": "code",
      "metadata": {
        "colab": {
          "base_uri": "https://localhost:8080/"
        },
        "id": "sclsmoossdqT",
        "outputId": "47e66809-bbbc-467d-bfac-e0d867815dbc"
      },
      "source": [
        "import numpy as np\r\n",
        "a = np.arange(0,16).reshape(4,4)\r\n",
        "print (a)\r\n",
        "np.linalg.det(a)"
      ],
      "execution_count": 44,
      "outputs": [
        {
          "output_type": "stream",
          "text": [
            "[[ 0  1  2  3]\n",
            " [ 4  5  6  7]\n",
            " [ 8  9 10 11]\n",
            " [12 13 14 15]]\n"
          ],
          "name": "stdout"
        },
        {
          "output_type": "execute_result",
          "data": {
            "text/plain": [
              "0.0"
            ]
          },
          "metadata": {
            "tags": []
          },
          "execution_count": 44
        }
      ]
    },
    {
      "cell_type": "markdown",
      "metadata": {
        "id": "aXpZGyMCsd29"
      },
      "source": [
        "Question:14\r\n",
        "\r\n",
        "Find the 5th and 95th percentile of an array?"
      ]
    },
    {
      "cell_type": "code",
      "metadata": {
        "colab": {
          "base_uri": "https://localhost:8080/"
        },
        "id": "Rfi6Bvc_seF0",
        "outputId": "2d41984f-4189-4c71-d429-9b2df8c52056"
      },
      "source": [
        "import numpy as np\r\n",
        "a = np.arange(0,16).reshape(4,4)\r\n",
        "print (a)\r\n",
        "print(np.percentile(a, 5))\r\n",
        "print(np.percentile(a, 95))"
      ],
      "execution_count": 49,
      "outputs": [
        {
          "output_type": "stream",
          "text": [
            "[[ 0  1  2  3]\n",
            " [ 4  5  6  7]\n",
            " [ 8  9 10 11]\n",
            " [12 13 14 15]]\n",
            "0.75\n",
            "14.25\n"
          ],
          "name": "stdout"
        }
      ]
    },
    {
      "cell_type": "markdown",
      "metadata": {
        "id": "CT8qq12useTn"
      },
      "source": [
        "Question:15\r\n",
        "\r\n",
        "How to find if a given array has any null values?"
      ]
    },
    {
      "cell_type": "code",
      "metadata": {
        "colab": {
          "base_uri": "https://localhost:8080/"
        },
        "id": "55L1UryHsepW",
        "outputId": "b82d5689-2a6b-4d77-b1be-4bbf2bf5bfcb"
      },
      "source": [
        "import numpy as np\r\n",
        "np.isnan([np.log(-1.),1.,np.log(0)])\r\n",
        "#array([ True, False, False])"
      ],
      "execution_count": 51,
      "outputs": [
        {
          "output_type": "stream",
          "text": [
            "/usr/local/lib/python3.6/dist-packages/ipykernel_launcher.py:2: RuntimeWarning: invalid value encountered in log\n",
            "  \n",
            "/usr/local/lib/python3.6/dist-packages/ipykernel_launcher.py:2: RuntimeWarning: divide by zero encountered in log\n",
            "  \n"
          ],
          "name": "stderr"
        },
        {
          "output_type": "execute_result",
          "data": {
            "text/plain": [
              "array([ True, False, False])"
            ]
          },
          "metadata": {
            "tags": []
          },
          "execution_count": 51
        }
      ]
    }
  ]
}